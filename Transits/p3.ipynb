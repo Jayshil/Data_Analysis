{
 "metadata": {
  "language_info": {
   "codemirror_mode": {
    "name": "ipython",
    "version": 3
   },
   "file_extension": ".py",
   "mimetype": "text/x-python",
   "name": "python",
   "nbconvert_exporter": "python",
   "pygments_lexer": "ipython3",
   "version": "3.7.9"
  },
  "orig_nbformat": 2,
  "kernelspec": {
   "name": "python379jvsc74a57bd077308f10e778eec9a13a21206849a589a8c13410aaae2405e5051cd249c67e86",
   "display_name": "Python 3.7.9 64-bit ('base': conda)"
  }
 },
 "nbformat": 4,
 "nbformat_minor": 2,
 "cells": [
  {
   "source": [
    "# Fitting transit data to a model\n",
    "\n",
    "In this notebook, we illustrate a method to fit the transit model to the data that we have retrieved. We use `juliet` package to get the transit model -- later, we use the `scipy` package `scipy.optimize.minimize` to fit the computed model to the data."
   ],
   "cell_type": "markdown",
   "metadata": {}
  },
  {
   "cell_type": "code",
   "execution_count": 1,
   "metadata": {},
   "outputs": [],
   "source": [
    "import numpy as np\n",
    "import matplotlib.pyplot as plt\n",
    "import batman\n",
    "from scipy.optimize import minimize as mz\n",
    "from scipy.optimize import curve_fit as cft\n",
    "import juliet as jl\n",
    "import os"
   ]
  },
  {
   "cell_type": "code",
   "execution_count": 2,
   "metadata": {},
   "outputs": [
    {
     "output_type": "stream",
     "name": "stdout",
     "text": [
      "  analysing data from /home/jayshil/Documents/UNIGE/Data_Analysis/Transits/Fitting/jomnest_.txt\n"
     ]
    }
   ],
   "source": [
    "p1 = os.getcwd() + '/'\n",
    "p2 = os.getcwd() + '/Fitting/'\n",
    "\n",
    "# Defining data dictionary\n",
    "tt1, fl1, fle1 = np.loadtxt('normal_flux.dat', usecols=(0,1,2), unpack=True)\n",
    "tts, fls, fles = {}, {}, {}\n",
    "tts['EUL'], fls['EUL'], fles['EUL'] = tt1, fl1, fle1\n",
    "\n",
    "\n",
    "# Defining prior file/dictionary\n",
    "pri1 = {}\n",
    "params = ['P_p1','t0_p1','r1_p1','r2_p1','q1_EUL','q2_EUL','ecc_p1','omega_p1','a_p1', 'mdilution_EUL', 'mflux_EUL', 'sigma_w_EUL']\n",
    "dists = ['normal','normal','uniform','uniform','uniform','uniform','fixed','fixed','uniform', 'fixed', 'normal', 'loguniform']\n",
    "hyperps = [[1.,0.1], [58423.10,0.1], [0.,1], [0.,1.], [0., 1.], [0., 1.], 0.0, 90., [1., 100.], 1.0, [0.,0.1], [0.1, 1000.]]\n",
    "\n",
    "for param, dist, hyperp in zip(params, dists, hyperps):\n",
    "    pri1[param] = {}\n",
    "    pri1[param]['distribution'], pri1[param]['hyperparameters'] = dist, hyperp\n",
    "\n",
    "\n",
    "dataset = jl.load(priors=pri1, t_lc=tts, y_lc=fls, yerr_lc=fles, out_folder=p2)\n",
    "rels = dataset.fit()"
   ]
  }
 ]
}