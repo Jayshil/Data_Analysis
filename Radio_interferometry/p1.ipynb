{
 "metadata": {
  "language_info": {
   "codemirror_mode": {
    "name": "ipython",
    "version": 3
   },
   "file_extension": ".py",
   "mimetype": "text/x-python",
   "name": "python",
   "nbconvert_exporter": "python",
   "pygments_lexer": "ipython3",
   "version": "3.7.9-final"
  },
  "orig_nbformat": 2,
  "kernelspec": {
   "name": "python3",
   "display_name": "Python 3.7.9 64-bit ('base': conda)",
   "metadata": {
    "interpreter": {
     "hash": "77308f10e778eec9a13a21206849a589a8c13410aaae2405e5051cd249c67e86"
    }
   }
  }
 },
 "nbformat": 4,
 "nbformat_minor": 2,
 "cells": [
  {
   "cell_type": "code",
   "execution_count": 1,
   "metadata": {},
   "outputs": [],
   "source": [
    "import numpy as np\n",
    "import matplotlib.pyplot as plt\n",
    "import astropy.constants as con\n",
    "import astropy.units as u\n",
    "from astropy.cosmology import Planck15 as cosmo"
   ]
  },
  {
   "source": [
    "## Derive Luminosity from star formation rate\n",
    "\n",
    "The formula to be used is from Kennicutt (1998) and stated below:\n",
    "\n",
    "$$SFR (in \\ M_\\odot year^{-1}) = 4.5 \\times 10^{-44} \\cdot L_{FIR} (in \\ erg \\ s^{-1})$$\n",
    "\n",
    "$$\\Rightarrow L_{FIR} (in \\ erg \\ s^{-1}) = \\frac{SFR (in \\ M_\\odot year^{-1}) }{4.5 \\times 10^{-44}}$$"
   ],
   "cell_type": "markdown",
   "metadata": {}
  },
  {
   "cell_type": "code",
   "execution_count": 2,
   "metadata": {},
   "outputs": [
    {
     "output_type": "stream",
     "name": "stdout",
     "text": [
      "The infrared luminosity is:  6.666666666666667e+44\n"
     ]
    }
   ],
   "source": [
    "sfr = 30\n",
    "kappa = 4.5e-44\n",
    "\n",
    "lfir = sfr/kappa ## in erg/sec\n",
    "print('The infrared luminosity is: ', lfir)"
   ]
  },
  {
   "source": [
    "Now we want to compute the CO luminosity from this IR luminosity. We can use the following line,\n",
    "\n",
    "$$\\log L_{IR} = 1.13 \\cdot \\log L'_{CO} + 0.53 $$"
   ],
   "cell_type": "markdown",
   "metadata": {}
  },
  {
   "cell_type": "code",
   "execution_count": 3,
   "metadata": {},
   "outputs": [
    {
     "output_type": "stream",
     "name": "stdout",
     "text": [
      "The CO luminosity is:  3010961089.7614913\n"
     ]
    }
   ],
   "source": [
    "lsun = ((con.L_sun).value)*(1e7)\n",
    "lfir_sun = lfir/lsun\n",
    "logco = (np.log10(lfir_sun)-0.53)/1.13\n",
    "lco_diff_units = 10**(logco)\n",
    "\n",
    "print('The CO luminosity is: ', lco_diff_units)"
   ]
  },
  {
   "source": [
    "We now want to choose the appropriate frequency for observation."
   ],
   "cell_type": "markdown",
   "metadata": {}
  },
  {
   "cell_type": "code",
   "execution_count": 4,
   "metadata": {},
   "outputs": [
    {
     "output_type": "stream",
     "name": "stdout",
     "text": [
      "CO10\t56.616504911591356\nCO21\t113.23083988212181\nCO32\t169.8408590373281\nC043\t226.44438605108056\nCO54\t283.0392455795678\nCO65\t339.6233251473477\nCO75\t396.1944037328094\n"
     ]
    }
   ],
   "source": [
    "lines = np.array(['CO10', 'CO21', 'CO32', 'C043', 'CO54', 'CO65', 'CO75'])\n",
    "\n",
    "rest_frame = np.array([115.271204, 230.537990, 345.795989, 461.040770, 576.267904, 691.473090, 806.651806])\n",
    "\n",
    "redshift = 1.036\n",
    "\n",
    "obs_freq = rest_frame/(1+redshift)\n",
    "\n",
    "for i in range(len(lines)):\n",
    "    print(lines[i] + '\\t' + str(obs_freq[i]))"
   ]
  },
  {
   "source": [
    "Hence we want to use CO(3-2). And we want to convert our $L'_{CO}$ into $L'_{3-2}$, by multiplying a factor of 0.6"
   ],
   "cell_type": "markdown",
   "metadata": {}
  },
  {
   "cell_type": "code",
   "execution_count": 5,
   "metadata": {},
   "outputs": [
    {
     "output_type": "stream",
     "name": "stdout",
     "text": [
      "1806576653.8568947\n"
     ]
    }
   ],
   "source": [
    "lco_32 = lco_diff_units*0.6\n",
    "print(lco_32)"
   ]
  },
  {
   "source": [
    "The adding lensing effect,"
   ],
   "cell_type": "markdown",
   "metadata": {}
  },
  {
   "cell_type": "code",
   "execution_count": 6,
   "metadata": {},
   "outputs": [
    {
     "output_type": "stream",
     "name": "stdout",
     "text": [
      "7768279611.584647\n"
     ]
    }
   ],
   "source": [
    "lco_32_lens = 4.3*lco_32\n",
    "print(lco_32_lens)"
   ]
  },
  {
   "cell_type": "code",
   "execution_count": 7,
   "metadata": {},
   "outputs": [
    {
     "output_type": "stream",
     "name": "stdout",
     "text": [
      "1.1561433012778473\n"
     ]
    }
   ],
   "source": [
    "dl = (cosmo.luminosity_distance(redshift)).value\n",
    "freq1 = obs_freq[2]\n",
    "\n",
    "aa = (lco_32_lens*freq1*freq1*((1+redshift)**3))\n",
    "bb = dl*dl*(3.25e7)\n",
    "\n",
    "flux_s = aa/bb\n",
    "\n",
    "print(flux_s)"
   ]
  },
  {
   "cell_type": "code",
   "execution_count": 8,
   "metadata": {},
   "outputs": [
    {
     "output_type": "stream",
     "name": "stdout",
     "text": [
      "0.005780716506389236\n"
     ]
    }
   ],
   "source": [
    "flux_density = flux_s/200\n",
    "print(flux_density)"
   ]
  },
  {
   "cell_type": "code",
   "execution_count": null,
   "metadata": {},
   "outputs": [],
   "source": []
  }
 ]
}