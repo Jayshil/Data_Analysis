{
 "metadata": {
  "language_info": {
   "codemirror_mode": {
    "name": "ipython",
    "version": 3
   },
   "file_extension": ".py",
   "mimetype": "text/x-python",
   "name": "python",
   "nbconvert_exporter": "python",
   "pygments_lexer": "ipython3",
   "version": "3.7.9-final"
  },
  "orig_nbformat": 2,
  "kernelspec": {
   "name": "python3",
   "display_name": "Python 3.7.9 64-bit ('anaconda3': virtualenv)",
   "metadata": {
    "interpreter": {
     "hash": "77308f10e778eec9a13a21206849a589a8c13410aaae2405e5051cd249c67e86"
    }
   }
  }
 },
 "nbformat": 4,
 "nbformat_minor": 2,
 "cells": [
  {
   "source": [
    "# Determine the molecular gas mass of a z=1 star-forming galaxy\n",
    "\n",
    "We, in the present notebook, use known star formation rate from a galaxy and use it to estimate the molecular gas mass in the galaxy."
   ],
   "cell_type": "markdown",
   "metadata": {}
  },
  {
   "cell_type": "code",
   "execution_count": 1,
   "metadata": {},
   "outputs": [],
   "source": [
    "import numpy as np\n",
    "import matplotlib.pyplot as plt\n",
    "import astropy.constants as con\n",
    "import astropy.units as u\n",
    "from astropy.cosmology import Planck15 as cosmo"
   ]
  },
  {
   "source": [
    "### Deriving Luminosity from star formation rate\n",
    "\n",
    "The formula to be used is from Kennicutt (1998) and stated below:\n",
    "\n",
    "$$SFR (in \\ M_\\odot year^{-1}) = 4.5 \\times 10^{-44} \\cdot L_{FIR} (in \\ erg \\ s^{-1})$$\n",
    "\n",
    "$$\\Rightarrow L_{FIR} (in \\ erg \\ s^{-1}) = \\frac{SFR (in \\ M_\\odot year^{-1}) }{4.5 \\times 10^{-44}}$$\n",
    "\n",
    "This formula is used to compute the lumminosity density from the star formation rate."
   ],
   "cell_type": "markdown",
   "metadata": {}
  },
  {
   "cell_type": "code",
   "execution_count": 2,
   "metadata": {},
   "outputs": [
    {
     "output_type": "stream",
     "name": "stdout",
     "text": [
      "The infrared luminosity (in cgs units) is: 6.67e+44\n"
     ]
    }
   ],
   "source": [
    "sfr = 30\n",
    "kappa = 4.5e-44\n",
    "\n",
    "lfir = sfr/kappa ## in erg/sec\n",
    "print('The infrared luminosity (in cgs units) is: {:.2e}'.format(lfir))"
   ]
  },
  {
   "source": [
    "Now we want to compute the CO luminosity from this IR luminosity. We can use the following equation from Carilli & Walter (2013),\n",
    "\n",
    "$$\\log L_{IR} = 1.13 \\cdot \\log L'_{CO} + 0.53 $$\n",
    "\n",
    "$$\\Rightarrow \\log L'_{CO} = \\frac{\\log L_{IR} - 0.53}{1.13}$$\n",
    "\n",
    "Here, $\\log L_{IR}$ in in units of $L_\\odot$ and $\\log L'_{CO}$ would be in $K \\ km \\ s^{-1} \\ pc^2$."
   ],
   "cell_type": "markdown",
   "metadata": {}
  },
  {
   "cell_type": "code",
   "execution_count": 3,
   "metadata": {},
   "outputs": [
    {
     "output_type": "stream",
     "name": "stdout",
     "text": [
      "The CO luminosity is (in log K km s-1 pc2): 3.01e+09\n"
     ]
    }
   ],
   "source": [
    "lsun = ((con.L_sun).value)*(1e7)\n",
    "lfir_sun = lfir/lsun\n",
    "logco = (np.log10(lfir_sun)-0.53)/1.13\n",
    "lco_diff_units = 10**(logco)\n",
    "\n",
    "print('The CO luminosity is (in log K km s-1 pc2): {:.2e}'.format(lco_diff_units))"
   ]
  },
  {
   "source": [
    "### Choose appropriate frequency to observe with ALMA\n",
    "\n",
    "We now want to choose the appropriate frequency for observation. To do this we want to first compute the observed frequency of various CO lines at redshift $z \\sim 1$."
   ],
   "cell_type": "markdown",
   "metadata": {}
  },
  {
   "cell_type": "code",
   "execution_count": 4,
   "metadata": {},
   "outputs": [
    {
     "output_type": "stream",
     "name": "stdout",
     "text": [
      "CO10\t56.616504911591356\nCO21\t113.23083988212181\nCO32\t169.8408590373281\nC043\t226.44438605108056\nCO54\t283.0392455795678\nCO65\t339.6233251473477\nCO75\t396.1944037328094\n"
     ]
    }
   ],
   "source": [
    "lines = np.array(['CO10', 'CO21', 'CO32', 'C043', 'CO54', 'CO65', 'CO75'])\n",
    "\n",
    "rest_frame = np.array([115.271204, 230.537990, 345.795989, 461.040770, 576.267904, 691.473090, 806.651806])\n",
    "\n",
    "redshift = 1.036\n",
    "\n",
    "obs_freq = rest_frame/(1+redshift)\n",
    "\n",
    "for i in range(len(lines)):\n",
    "    print(lines[i] + '\\t' + str(obs_freq[i]))"
   ]
  },
  {
   "source": [
    "### CO (3-2) luminosity\n",
    "\n",
    "It is evident from the above observed frequencies that frequency corresponding to CO(3-2) is best for ALMA observations. Hence we want to use CO(3-2). And we want to convert our $L'_{CO}$ into $L'_{3-2}$, by multiplying a factor of 0.6 (from Carilli & Walter 2013)."
   ],
   "cell_type": "markdown",
   "metadata": {}
  },
  {
   "cell_type": "code",
   "execution_count": 5,
   "metadata": {},
   "outputs": [],
   "source": [
    "lco_32 = lco_diff_units*0.6"
   ]
  },
  {
   "source": [
    "Adding the lensing effect,"
   ],
   "cell_type": "markdown",
   "metadata": {}
  },
  {
   "cell_type": "code",
   "execution_count": 6,
   "metadata": {},
   "outputs": [],
   "source": [
    "lco_32_lens = 4.3*lco_32"
   ]
  },
  {
   "source": [
    "### Calculating flux density\n",
    "\n",
    "Now we want to compute the flux density from the calculated CO luminosity using a formula from Solomon et al. (1997):\n",
    "\n",
    "$$ L'_{CO} = 3.25 \\times 10^7 S_{CO}\\Delta V \\nu_{obs}^{-2} D_L^2 (1+z)^{-3}$$\n",
    "\n",
    "with $S_{CO}\\Delta V$ in $km \\ s^{-1}$, $\\nu_{obs}$ in $GHz$ and $D_L$ (which is luminosity distance -- we calculated this from the `Planck18` cosmology from `astropy.cosmology` module) in $Mpc$. Since, we want to measure the flux density (that is, $S_{CO} \\Delta V$), we can adjust above equation as,\n",
    "\n",
    "$$S_{CO} \\Delta V = \\frac{L'_{CO} \\cdot \\nu_{obs}^2 (1+z)^3}{3.25 \\times 10^7 \\cdot D_L^2}$$\n",
    "\n",
    "Above formula is adapted below,"
   ],
   "cell_type": "markdown",
   "metadata": {}
  },
  {
   "cell_type": "code",
   "execution_count": 7,
   "metadata": {},
   "outputs": [
    {
     "output_type": "stream",
     "name": "stdout",
     "text": [
      "Flux density (in Jy km-1) is: 1.16e+00\n"
     ]
    }
   ],
   "source": [
    "dl = (cosmo.luminosity_distance(redshift)).value\n",
    "freq1 = obs_freq[2]\n",
    "\n",
    "aa = (lco_32_lens*freq1*freq1*((1+redshift)**3))\n",
    "bb = dl*dl*(3.25e7)\n",
    "\n",
    "flux_s = aa/bb\n",
    "\n",
    "print('Flux density (in Jy km-1) is: {:.2e}'.format(flux_s))"
   ]
  },
  {
   "source": [
    "Since the above computed flux density also include the velosity dispersion, we want to divide it with an appropriate value of the velosity dispersion to get the flux density in the units os $Jy$, which is done below:"
   ],
   "cell_type": "markdown",
   "metadata": {}
  },
  {
   "cell_type": "code",
   "execution_count": 8,
   "metadata": {},
   "outputs": [
    {
     "output_type": "stream",
     "name": "stdout",
     "text": [
      "Flus density (in Jy): 5.78e-03\n"
     ]
    }
   ],
   "source": [
    "flux_density = flux_s/200\n",
    "print('Flus density (in Jy): {:.2e}'.format(flux_density))"
   ]
  },
  {
   "source": [
    "### Mass of H2\n",
    "\n",
    "We now want to compute the mass of moleculer $H_2$ from the CO luminosity we calculated earlier. We use the conversion factor of $\\alpha_{CO} = 4 M_\\odot (K km s^{-1} pc^2)^{-1}$ from Carilli & Walter (2013). Note that this conversion factor will give the mass of $H_2$ for CO (1-0) transition luminosity. Hence we want to use the same luminosity for conversion."
   ],
   "cell_type": "markdown",
   "metadata": {}
  },
  {
   "cell_type": "code",
   "execution_count": 9,
   "metadata": {},
   "outputs": [
    {
     "output_type": "stream",
     "name": "stdout",
     "text": [
      "Mass of H2 (in M_sun): 1.20e+10\n"
     ]
    }
   ],
   "source": [
    "mass_h2 = lco_diff_units*4\n",
    "print('Mass of H2 (in M_sun): {:.2e}'.format(mass_h2))"
   ]
  }
 ]
}